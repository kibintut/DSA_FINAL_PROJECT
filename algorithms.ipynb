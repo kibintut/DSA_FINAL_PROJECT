{
 "cells": [
  {
   "cell_type": "markdown",
   "id": "gLw9KkbnVl8W",
   "metadata": {
    "id": "gLw9KkbnVl8W"
   },
   "source": [
    "ALGORITHMS"
   ]
  },
  {
   "cell_type": "markdown",
   "id": "nQD4ZqsqVpX9",
   "metadata": {
    "id": "nQD4ZqsqVpX9"
   },
   "source": [
    "Recursion"
   ]
  },
  {
   "cell_type": "code",
   "execution_count": null,
   "id": "9624d877",
   "metadata": {
    "id": "9624d877",
    "outputId": "e9cf6a99-1f84-4780-884d-db4c59b89717"
   },
   "outputs": [
    {
     "name": "stdout",
     "output_type": "stream",
     "text": [
      "5\n",
      "4\n",
      "3\n",
      "2\n",
      "1\n",
      "15\n"
     ]
    }
   ],
   "source": [
    "def sum_numbers(n):\n",
    "    if n <= 1:\n",
    "        print(n)\n",
    "        return n\n",
    "    else:\n",
    "        print(n)\n",
    "        return n + sum_numbers(n-1)\n",
    "\n",
    "result = sum_numbers(5)\n",
    "print(result)"
   ]
  },
  {
   "cell_type": "markdown",
   "id": "IV4L_daMVvau",
   "metadata": {
    "id": "IV4L_daMVvau"
   },
   "source": [
    "Tail Recursion"
   ]
  },
  {
   "cell_type": "code",
   "execution_count": null,
   "id": "66975b7b",
   "metadata": {
    "id": "66975b7b"
   },
   "outputs": [],
   "source": [
    "def sum_numbers(n):\n",
    "    if n <= 1:\n",
    "        return n\n",
    "    else:\n",
    "        return n + sum_numbers(n-1)\n",
    "\n",
    "def sum_numbers_tail_rec(n, accumulator=0):\n",
    "    if n <= 0:\n",
    "        return accumulator\n",
    "    else:\n",
    "        return sum_numbers_tail_rec(n-1, accumulator + n)"
   ]
  },
  {
   "cell_type": "markdown",
   "id": "B3of-kX5V06O",
   "metadata": {
    "id": "B3of-kX5V06O"
   },
   "source": [
    "Sorting"
   ]
  },
  {
   "cell_type": "markdown",
   "id": "9_WNkk-LV4_Y",
   "metadata": {
    "id": "9_WNkk-LV4_Y"
   },
   "source": [
    "Bubble Sort"
   ]
  },
  {
   "cell_type": "code",
   "execution_count": null,
   "id": "c804e98a",
   "metadata": {
    "id": "c804e98a",
    "outputId": "3635cfa8-e131-43f5-904b-fab2e4cf3db2"
   },
   "outputs": [
    {
     "name": "stdout",
     "output_type": "stream",
     "text": [
      "[11, 12, 22, 25, 34, 64, 90]\n"
     ]
    }
   ],
   "source": [
    "# Bubble Sort\n",
    "def bubble_sort(arr):\n",
    "    n = len(arr)\n",
    "    # Traverse through all array elements\n",
    "    for i in range(n):\n",
    "        # Last i elements are already in place\n",
    "        for j in range(0, n-i-1):            # Traverse the array from 0 to n-i-1\n",
    "            # Swap if the element found is greater than the next element\n",
    "            if arr[j] > arr[j+1]:\n",
    "                arr[j], arr[j+1] = arr[j+1], arr[j]\n",
    "    return arr\n",
    "\n",
    "sample_list = [64, 34, 25, 12, 22, 11, 90]\n",
    "sorted_list = bubble_sort(sample_list)\n",
    "print(sorted_list)"
   ]
  },
  {
   "cell_type": "markdown",
   "id": "6AeVT-nPV8fa",
   "metadata": {
    "id": "6AeVT-nPV8fa"
   },
   "source": [
    "Insertion"
   ]
  },
  {
   "cell_type": "code",
   "execution_count": null,
   "id": "7c5ef355",
   "metadata": {
    "id": "7c5ef355",
    "outputId": "cc3513d1-112e-470f-e3c5-40a514af8e2c"
   },
   "outputs": [
    {
     "name": "stdout",
     "output_type": "stream",
     "text": [
      "Sorted array is: [5, 6, 11, 12, 13]\n"
     ]
    }
   ],
   "source": [
    "# Insertion Sort\n",
    "def insertion_sort(arr):\n",
    "    for i in range(1, len(arr)):\n",
    "        key = arr[i]\n",
    "        j = i - 1\n",
    "        while j >= 0 and key < arr[j]:\n",
    "            arr[j + 1] = arr[j]\n",
    "            j -= 1\n",
    "        arr[j + 1] = key\n",
    "    return arr\n",
    "\n",
    "example_list = [12, 11, 13, 5, 6]\n",
    "insertion_sort(example_list)\n",
    "print(\"Sorted array is:\", example_list)"
   ]
  },
  {
   "cell_type": "markdown",
   "id": "3hhieM9cV_eL",
   "metadata": {
    "id": "3hhieM9cV_eL"
   },
   "source": [
    "Merge"
   ]
  },
  {
   "cell_type": "code",
   "execution_count": null,
   "id": "32959f9f",
   "metadata": {
    "id": "32959f9f",
    "outputId": "9dd2f9b8-ea13-4829-9d36-64b4f215c716"
   },
   "outputs": [
    {
     "name": "stdout",
     "output_type": "stream",
     "text": [
      "Sorted array is:  [5, 6, 7, 11, 12, 13]\n"
     ]
    }
   ],
   "source": [
    "# Merge Sort\n",
    "def merge_sort(arr):\n",
    "    if len(arr) > 1:\n",
    "        mid = len(arr) // 2\n",
    "        L = arr[:mid]\n",
    "        R = arr[mid:]\n",
    "\n",
    "        merge_sort(L)\n",
    "        merge_sort(R)\n",
    "\n",
    "        i = j = k = 0\n",
    "\n",
    "        while i < len(L) and j < len(R):\n",
    "            if L[i] < R[j]:\n",
    "                arr[k] = L[i]\n",
    "                i += 1\n",
    "            else:\n",
    "                arr[k] = R[j]\n",
    "                j += 1\n",
    "            k += 1\n",
    "\n",
    "        while i < len(L):\n",
    "            arr[k] = L[i]\n",
    "            i += 1\n",
    "            k += 1\n",
    "\n",
    "        while j < len(R):\n",
    "            arr[k] = R[j]\n",
    "            j += 1\n",
    "            k += 1\n",
    "\n",
    "    return arr\n",
    "\n",
    "arr = [12, 11, 13, 5, 6, 7]\n",
    "print(\"Sorted array is: \", merge_sort(arr))"
   ]
  },
  {
   "cell_type": "markdown",
   "id": "M55Z9WoyWCB2",
   "metadata": {
    "id": "M55Z9WoyWCB2"
   },
   "source": [
    "Quick"
   ]
  },
  {
   "cell_type": "code",
   "execution_count": null,
   "id": "1212d93a",
   "metadata": {
    "id": "1212d93a",
    "outputId": "523b38d7-40fc-42d3-c688-e566bcb4be01"
   },
   "outputs": [
    {
     "name": "stdout",
     "output_type": "stream",
     "text": [
      "Sorted array: [10, 13, 14, 29, 37]\n"
     ]
    }
   ],
   "source": [
    "# Quick Sort\n",
    "def quick_sort(arr):\n",
    "    if len(arr) <= 1:\n",
    "        return arr\n",
    "    else:\n",
    "        pivot = arr[0]\n",
    "        less = [x for x in arr[1:] if x <= pivot]\n",
    "        greater = [x for x in arr[1:] if x > pivot]\n",
    "        return quick_sort(less) + [pivot] + quick_sort(greater)\n",
    "\n",
    "\n",
    "arr = [29, 10, 14, 37, 13]\n",
    "sorted_arr = quick_sort(arr)\n",
    "print(\"Sorted array:\", sorted_arr)"
   ]
  },
  {
   "cell_type": "markdown",
   "id": "ijz1x971WF9n",
   "metadata": {
    "id": "ijz1x971WF9n"
   },
   "source": [
    "Selection"
   ]
  },
  {
   "cell_type": "code",
   "execution_count": null,
   "id": "c7e715de",
   "metadata": {
    "id": "c7e715de",
    "outputId": "e3fe8770-fc69-4b2c-c540-be07bcc52b33"
   },
   "outputs": [
    {
     "name": "stdout",
     "output_type": "stream",
     "text": [
      "[11, 12, 22, 25, 64]\n"
     ]
    }
   ],
   "source": [
    "# Selection Sort\n",
    "def selection_sort(arr):\n",
    "    for i in range(len(arr)):\n",
    "        min_index = i\n",
    "        for j in range(i+1, len(arr)):\n",
    "            if arr[j] < arr[min_index]:\n",
    "                min_index = j\n",
    "        arr[i], arr[min_index] = arr[min_index], arr[i]\n",
    "    return arr\n",
    "\n",
    "example_list = [64, 25, 12, 22, 11]\n",
    "sorted_list = selection_sort(example_list)\n",
    "print(sorted_list)"
   ]
  },
  {
   "cell_type": "markdown",
   "id": "Xm_EoFm_WIFF",
   "metadata": {
    "id": "Xm_EoFm_WIFF"
   },
   "source": [
    "Search Algo"
   ]
  },
  {
   "cell_type": "code",
   "execution_count": null,
   "id": "acb6bcd9",
   "metadata": {
    "id": "acb6bcd9",
    "outputId": "47dfc110-a015-4e0a-cf7e-38f9469b2e2c"
   },
   "outputs": [
    {
     "name": "stdout",
     "output_type": "stream",
     "text": [
      "Index of 7: 3\n",
      "Index of 8: -1\n",
      "Index of 1: 0\n",
      "Index of 21: 10\n"
     ]
    }
   ],
   "source": [
    "# Binary Search\n",
    "def binary_search(arr, target):\n",
    "    left, right = 0, len(arr) - 1\n",
    "    while left <= right:\n",
    "        mid = left + (right - left) // 2\n",
    "        if arr[mid] == target:\n",
    "            return mid\n",
    "        elif arr[mid] > target:\n",
    "            right = mid - 1\n",
    "        else:\n",
    "            left = mid + 1\n",
    "    return -1\n",
    "\n",
    "sorted_array = [1, 3, 5, 7, 9, 11, 13, 15, 17, 19, 21]\n",
    "print(\"Index of 7:\", binary_search(sorted_array, 7))\n",
    "print(\"Index of 8:\", binary_search(sorted_array, 8))\n",
    "print(\"Index of 1:\", binary_search(sorted_array, 1))\n",
    "print(\"Index of 21:\", binary_search(sorted_array, 21))"
   ]
  },
  {
   "cell_type": "code",
   "execution_count": null,
   "id": "dff858df",
   "metadata": {
    "id": "dff858df",
    "outputId": "afb81110-ed01-4cbb-eebc-ff83db8cc90d"
   },
   "outputs": [
    {
     "name": "stdout",
     "output_type": "stream",
     "text": [
      "Element found at index 4\n"
     ]
    }
   ],
   "source": [
    "# Interpolation Search\n",
    "def interpolation_search(arr, x):\n",
    " low = 0\n",
    " high = len(arr) - 1\n",
    "\n",
    " while low <= high and x >= arr[low] and x <= arr[high]:\n",
    "    if low == high:\n",
    "        if arr[low] == x:\n",
    "            return low\n",
    "        return -1\n",
    "\n",
    "    pos = low + int(((float(high - low) / (arr[high] - arr[low])) * (x - arr[low])))\n",
    "\n",
    "    if arr[pos] == x:\n",
    "        return pos\n",
    "\n",
    "    if arr[pos] < x:\n",
    "        low = pos + 1\n",
    "    else:\n",
    "        high = pos - 1\n",
    "\n",
    " return -1\n",
    "\n",
    "\n",
    "# Example usage\n",
    "arr = [10, 12, 13, 16, 18, 19, 20, 21, 22, 23, 24, 33, 35, 42, 47]\n",
    "x = 18\n",
    "index = interpolation_search(arr, x)\n",
    "\n",
    "print(\"Element found at index\", index) if index != -1 else print(\"Element not found\")"
   ]
  },
  {
   "cell_type": "code",
   "execution_count": null,
   "id": "3c7426e6",
   "metadata": {
    "id": "3c7426e6"
   },
   "outputs": [],
   "source": [
    "# Dynamic Programming"
   ]
  },
  {
   "cell_type": "code",
   "execution_count": 1,
   "id": "Jh-Smq-0UHW_",
   "metadata": {
    "colab": {
     "base_uri": "https://localhost:8080/"
    },
    "executionInfo": {
     "elapsed": 352,
     "status": "ok",
     "timestamp": 1733484491565,
     "user": {
      "displayName": "Reilan Cadubla",
      "userId": "13131126081499250467"
     },
     "user_tz": -480
    },
    "id": "Jh-Smq-0UHW_",
    "outputId": "e287bbb8-1629-47e6-e019-7d1fdbe9de7d"
   },
   "outputs": [
    {
     "name": "stdout",
     "output_type": "stream",
     "text": [
      "The 20th Fibonacci number is: 6765\n"
     ]
    }
   ],
   "source": [
    "# Fibonacci Problems\n",
    "def fibonacci(n):\n",
    "    if n <= 1:\n",
    "        return n\n",
    "    else:\n",
    "        return fibonacci(n-1) + fibonacci(n-2)\n",
    "\n",
    "# Example usage\n",
    "n = 20  # Change this value to compute a different term in the sequence\n",
    "print(f\"The {n}th Fibonacci number is: {fibonacci(n)}\")\n",
    "\n",
    "# Memoization\n",
    "def fibonacci_memo(n, memo={}):\n",
    "    if n in memo:\n",
    "        return memo[n]\n",
    "    if n <= 1:\n",
    "        return n\n",
    "\n",
    "    memo[n] = fibonacci_memo(n - 1, memo) + fibonacci_memo(n - 2, memo)\n",
    "    return memo[n]\n",
    "\n",
    "# Example usage\n",
    "n = 10  # Change this value to compute a different term in the sequence\n",
    "print(f\"The {n}th Fibonacci number is: {fibonacci_memo(n)}\")\n",
    "\n",
    "# Tabulation\n",
    "def fibonacci_tab(n):\n",
    "    if n <= 1:\n",
    "        return n\n",
    "\n",
    "    fib_table = [0] * (n + 1)\n",
    "    fib_table[1] = 1\n",
    "\n",
    "    for i in range(2, n + 1):\n",
    "        fib_table[i] = fib_table[i - 1] + fib_table[i - 2]\n",
    "\n",
    "    return fib_table[n]\n",
    "\n",
    "# Example usage\n",
    "n = 5  # Change this value to compute a different term in the sequence\n",
    "print(f\"The {n}th Fibonacci number is: {fibonacci_tab(n)}\")"
   ]
  },
  {
   "cell_type": "code",
   "execution_count": 1,
   "id": "VVIONYlVULh4",
   "metadata": {
    "colab": {
     "base_uri": "https://localhost:8080/"
    },
    "executionInfo": {
     "elapsed": 411,
     "status": "ok",
     "timestamp": 1733460906245,
     "user": {
      "displayName": "Reilan Cadubla",
      "userId": "13131126081499250467"
     },
     "user_tz": -480
    },
    "id": "VVIONYlVULh4",
    "outputId": "64a41079-7623-4815-bfeb-4b5525493b94"
   },
   "outputs": [
    {
     "name": "stdout",
     "output_type": "stream",
     "text": [
      "The 20th Fibonacci number is: 6765\n",
      "280\n",
      "220\n"
     ]
    }
   ],
   "source": [
    "# Knapsack\n",
    "def fibonacci(n):\n",
    "    if n <= 1:\n",
    "        return n\n",
    "    else:\n",
    "        return fibonacci(n-1) + fibonacci(n-2)\n",
    "\n",
    "# Example usage\n",
    "n = 20  # Change this value to compute a different term in the sequence\n",
    "print(f\"The {n}th Fibonacci number is: {fibonacci(n)}\")\n",
    "\n",
    "# Memoization\n",
    "def fibonacci_memo(n, memo={}):\n",
    "    if n in memo:\n",
    "        return memo[n]\n",
    "    if n <= 1:\n",
    "        return n\n",
    "\n",
    "    memo[n] = fibonacci_memo(n - 1, memo) + fibonacci_memo(n - 2, memo)\n",
    "    return memo[n]\n",
    "\n",
    "# Brute Force\n",
    "def knapsack_brute(v, w, n, W):\n",
    "    # Base Case: No items left or no remaining capacity in the knapsack\n",
    "    if n == 0 or W == 0:\n",
    "        return 0\n",
    "\n",
    "    # If weight of the nth item is more than the knapsack capacity W,\n",
    "    # then this item cannot be included in the optimal solution\n",
    "    if w[n - 1] > W:\n",
    "        return knapsack_brute(v, w, n - 1, W)\n",
    "\n",
    "    # Return the maximum of two cases:\n",
    "    # 1. nth item included\n",
    "    # 2. not included\n",
    "    else:\n",
    "        return max(v[n - 1] + knapsack_brute(v, w, n - 1, W - w[n - 1]), knapsack_brute(v, w, n - 1, W))\n",
    "\n",
    "    Memoization\n",
    "def knapsack_memo(v, w, n, W, memo):\n",
    "    # Check if the value is already computed\n",
    "    if (n, W) in memo:\n",
    "        return memo[(n, W)]\n",
    "\n",
    "    # Base Case: No items left or no remaining capacity in the knapsack\n",
    "    if n == 0 or W == 0:\n",
    "        return 0\n",
    "\n",
    "    # If the weight of the nth item is more than the knapsack capacity W,\n",
    "    # this item cannot be included in the optimal solution\n",
    "    if w[n - 1] > W:\n",
    "        memo[(n, W)] = knapsack_memo(v, w, n - 1, W, memo)\n",
    "    else:\n",
    "        # Compute the value with and without the nth item and store the maximum\n",
    "        memo[(n, W)] = max(v[n - 1] + knapsack_memo(v, w, n - 1, W - w[n - 1], memo),\n",
    "                           knapsack_memo(v, w, n - 1, W, memo))\n",
    "    return memo[(n, W)]\n",
    "\n",
    "# Wrapper function\n",
    "def knapsack_with_memo(v, w, W):\n",
    "    memo = {}\n",
    "    return knapsack_memo(v, w, len(v), W, memo)\n",
    "\n",
    "# Example usage\n",
    "values = [60, 100, 120]\n",
    "weights = [10, 20, 30]\n",
    "W = 60\n",
    "\n",
    "# Calculate the maximum value using memoization\n",
    "max_value_memo = knapsack_with_memo(values, weights, W)\n",
    "print(max_value_memo)\n",
    "\n",
    "# Tabulation\n",
    "def knapsack_tabulation(v, w, W):\n",
    "    n = len(v)\n",
    "    dp = [[0 for _ in range(W + 1)] for _ in range(n + 1)]\n",
    "\n",
    "    # Build the table dp[][] in bottom-up manner\n",
    "    for i in range(1, n + 1):\n",
    "        for j in range(1, W + 1):\n",
    "            if w[i - 1] <= j:\n",
    "                dp[i][j] = max(dp[i - 1][j], v[i - 1] + dp[i - 1][j - w[i - 1]])\n",
    "            else:\n",
    "                dp[i][j] = dp[i - 1][j]\n",
    "\n",
    "    return dp[n][W]\n",
    "\n",
    "# Example usage\n",
    "values = [60, 100, 120]\n",
    "weights = [10, 20, 30]\n",
    "W = 50\n",
    "\n",
    "# Calculate the maximum value that can be put in the knapsack using tabulation\n",
    "max_value_tabulation = knapsack_tabulation(values, weights, W)\n",
    "print(max_value_tabulation)\n",
    "\n",
    "\n"
   ]
  },
  {
   "cell_type": "code",
   "execution_count": null,
   "id": "Wc4WJOUJUU5d",
   "metadata": {
    "id": "Wc4WJOUJUU5d"
   },
   "outputs": [],
   "source": [
    "# Greedy Algo"
   ]
  },
  {
   "cell_type": "code",
   "execution_count": null,
   "id": "kOoAne9NUu-_",
   "metadata": {
    "id": "kOoAne9NUu-_"
   },
   "outputs": [],
   "source": [
    "def greedy_knapsack(items, max_capacity):\n",
    "    # Sort items by value-to-weight ratio in descending order\n",
    "    items.sort(key=lambda x: x.value / x.weight, reverse=True)\n",
    "\n",
    "    total_value = 0\n",
    "    for item in items:\n",
    "        if max_capacity >= item.weight:\n",
    "            # Take the whole item\n",
    "            max_capacity -= item.weight\n",
    "            total_value += item.value\n",
    "        else:\n",
    "            # Take a fraction of the item\n",
    "            fraction = max_capacity / item.weight\n",
    "            total_value += item.value * fraction\n",
    "            break\n",
    "\n",
    "    return total_value\n",
    "\n",
    "\n",
    "def dynamic_knapsack(items, max_capacity):\n",
    "    n = len(items)\n",
    "    dp = [[0 for x in range(max_capacity + 1)] for x in range(n + 1)]\n",
    "\n",
    "    for i in range(1, n + 1):\n",
    "        for w in range(1, max_capacity + 1):\n",
    "            if items[i-1].weight <= w:\n",
    "                dp[i][w] = max(items[i-1].value + dp[i-1][w-items[i-1].weight], dp[i-1][w])\n",
    "            else:\n",
    "                dp[i][w] = dp[i-1][w]\n",
    "\n",
    "    return dp[n][max_capacity]\n",
    "\n",
    "\n",
    "\n",
    "def divide_and_conquer_knapsack(items, max_capacity, n):\n",
    "    if n == 0 or max_capacity == 0:\n",
    "        return 0\n",
    "\n",
    "    if items[n-1].weight > max_capacity:\n",
    "        return divide_and_conquer_knapsack(items, max_capacity, n-1)\n",
    "\n",
    "    else:\n",
    "        return max(\n",
    "            items[n-1].value + divide_and_conquer_knapsack(items, max_capacity - items[n-1].weight, n-1),\n",
    "            divide_and_conquer_knapsack(items, max_capacity, n-1)\n",
    "        )"
   ]
  },
  {
   "cell_type": "markdown",
   "id": "pG-WXmH8VNno",
   "metadata": {
    "id": "pG-WXmH8VNno"
   },
   "source": [
    "Graph Algo"
   ]
  },
  {
   "cell_type": "code",
   "execution_count": 1,
   "id": "pQ_Q0oYLVM0x",
   "metadata": {
    "id": "pQ_Q0oYLVM0x"
   },
   "outputs": [
    {
     "name": "stdout",
     "output_type": "stream",
     "text": [
      "{'Lansing, MI': 0, 'Columbus, OH': 254, 'Charleston, WV': 416, 'Frankfort, KY': 440, 'Indianapolis, IN': 429}\n"
     ]
    }
   ],
   "source": [
    "# Dijkstras\n",
    "import heapq\n",
    "\n",
    "def dijkstra(graph, start):\n",
    "    min_distances = {node: float('infinity') for node in graph}\n",
    "    min_distances[start] = 0\n",
    "    pq = [(0, start)]\n",
    "\n",
    "    while pq:\n",
    "        current_distance, current_node = heapq.heappop(pq)\n",
    "\n",
    "        if current_distance > min_distances[current_node]:\n",
    "            continue\n",
    "\n",
    "        for neighbor, weight in graph[current_node].items():\n",
    "            distance = current_distance + weight\n",
    "\n",
    "            if distance < min_distances[neighbor]:\n",
    "                min_distances[neighbor] = distance\n",
    "                heapq.heappush(pq, (distance, neighbor))\n",
    "\n",
    "    return min_distances\n",
    "\n",
    "# Graph represented as adjacency list with weights\n",
    "graph = {\n",
    "    'Lansing, MI': {'Columbus, OH': 254},\n",
    "    'Columbus, OH': {'Lansing, MI': 254, 'Charleston, WV': 162, 'Frankfort, KY': 186, 'Indianapolis, IN': 175},\n",
    "    'Charleston, WV': {'Columbus, OH': 162, 'Frankfort, KY': 198},\n",
    "    'Frankfort, KY': {'Charleston, WV': 198, 'Columbus, OH': 186, 'Indianapolis, IN': 166},\n",
    "    'Indianapolis, IN': {'Columbus, OH': 175, 'Frankfort, KY': 166}\n",
    "}\n",
    "\n",
    "# Start the algorithm from 'Lansing, MI'\n",
    "shortest_paths = dijkstra(graph, 'Lansing, MI')\n",
    "print(shortest_paths)\n"
   ]
  },
  {
   "cell_type": "markdown",
   "id": "myvEEWPlVeOq",
   "metadata": {
    "id": "myvEEWPlVeOq"
   },
   "source": [
    "Traversal Algo"
   ]
  },
  {
   "cell_type": "code",
   "execution_count": 2,
   "id": "oBJaxwl1Vgsy",
   "metadata": {
    "colab": {
     "base_uri": "https://localhost:8080/"
    },
    "executionInfo": {
     "elapsed": 1231,
     "status": "ok",
     "timestamp": 1733461154997,
     "user": {
      "displayName": "Reilan Cadubla",
      "userId": "13131126081499250467"
     },
     "user_tz": -480
    },
    "id": "oBJaxwl1Vgsy",
    "outputId": "40319de2-97ab-4dac-edea-aee504891a19"
   },
   "outputs": [
    {
     "name": "stdout",
     "output_type": "stream",
     "text": [
      "Depth-First\n",
      "Visited Ohio\n",
      "Visited Michigan\n",
      "Visited Indiana\n",
      "Visited Kentucky\n",
      "Visited West Virginia\n"
     ]
    }
   ],
   "source": [
    "\n",
    "graph = {\n",
    "    'Michigan': ['Indiana', 'Ohio'],\n",
    "    'Ohio': ['Michigan', 'Indiana', 'Kentucky', 'West Virginia'],\n",
    "    'Indiana': ['Michigan', 'Ohio', 'Kentucky'],\n",
    "    'Kentucky': ['Indiana', 'Ohio', 'West Virginia'],\n",
    "    'West Virginia': ['Ohio', 'Kentucky']\n",
    "}\n",
    "\n",
    "def dfs(visited, graph, node):\n",
    "    if node not in visited:\n",
    "        print(f'Visited {node}')\n",
    "        visited.add(node)\n",
    "        for neighbour in graph[node]:\n",
    "            dfs(visited, graph, neighbour)\n",
    "\n",
    "# Let's start with an empty set to track the visited nodes\n",
    "visited = set()\n",
    "\n",
    "# We can start our traversal at any node, let's start at 'Ohio'\n",
    "print(\"Depth-First\")\n",
    "dfs(visited, graph, 'Ohio')\n",
    "\n",
    "\n",
    "# from collections import deque\n",
    "\n",
    "# def bfs(graph, start_node):\n",
    "#     visited = set()\n",
    "#     queue = deque([start_node])\n",
    "\n",
    "#     while queue:\n",
    "#         node = queue.popleft()\n",
    "#         if node not in visited:\n",
    "#             print(f'Visited {node}')\n",
    "#             visited.add(node)\n",
    "#             # Convert graph[node] to a set for the set difference, then back to a list to extend the queue.\n",
    "#             queue.extend(list(set(graph[node]) - visited))\n",
    "\n",
    "# # Starting BFS traversal from 'Ohio'\n",
    "# print(\"Breadth-First\")\n",
    "# bfs(graph, 'Ohio')"
   ]
  }
 ],
 "metadata": {
  "colab": {
   "provenance": []
  },
  "kernelspec": {
   "display_name": "base",
   "language": "python",
   "name": "python3"
  },
  "language_info": {
   "codemirror_mode": {
    "name": "ipython",
    "version": 3
   },
   "file_extension": ".py",
   "mimetype": "text/x-python",
   "name": "python",
   "nbconvert_exporter": "python",
   "pygments_lexer": "ipython3",
   "version": "3.12.3"
  }
 },
 "nbformat": 4,
 "nbformat_minor": 5
}
